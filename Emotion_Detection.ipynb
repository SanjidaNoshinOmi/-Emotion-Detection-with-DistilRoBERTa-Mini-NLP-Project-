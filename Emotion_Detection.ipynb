{
  "nbformat": 4,
  "nbformat_minor": 0,
  "metadata": {
    "colab": {
      "provenance": []
    },
    "kernelspec": {
      "name": "python3",
      "display_name": "Python 3"
    },
    "language_info": {
      "name": "python"
    }
  },
  "cells": [
    {
      "cell_type": "code",
      "source": [
        "!pip install transformers\n",
        "\n",
        "from transformers import pipeline\n",
        "\n",
        "emotion_classifier = pipeline(\"text-classification\", model=\"j-hartmann/emotion-english-distilroberta-base\", return_all_scores=True)"
      ],
      "metadata": {
        "colab": {
          "base_uri": "https://localhost:8080/"
        },
        "id": "ckLt9B9CML2w",
        "outputId": "9b292cd1-ef87-4b41-9718-d66592487c43"
      },
      "execution_count": 81,
      "outputs": [
        {
          "output_type": "stream",
          "name": "stdout",
          "text": [
            "Requirement already satisfied: transformers in /usr/local/lib/python3.11/dist-packages (4.51.3)\n",
            "Requirement already satisfied: filelock in /usr/local/lib/python3.11/dist-packages (from transformers) (3.18.0)\n",
            "Requirement already satisfied: huggingface-hub<1.0,>=0.30.0 in /usr/local/lib/python3.11/dist-packages (from transformers) (0.31.2)\n",
            "Requirement already satisfied: numpy>=1.17 in /usr/local/lib/python3.11/dist-packages (from transformers) (2.0.2)\n",
            "Requirement already satisfied: packaging>=20.0 in /usr/local/lib/python3.11/dist-packages (from transformers) (24.2)\n",
            "Requirement already satisfied: pyyaml>=5.1 in /usr/local/lib/python3.11/dist-packages (from transformers) (6.0.2)\n",
            "Requirement already satisfied: regex!=2019.12.17 in /usr/local/lib/python3.11/dist-packages (from transformers) (2024.11.6)\n",
            "Requirement already satisfied: requests in /usr/local/lib/python3.11/dist-packages (from transformers) (2.32.3)\n",
            "Requirement already satisfied: tokenizers<0.22,>=0.21 in /usr/local/lib/python3.11/dist-packages (from transformers) (0.21.1)\n",
            "Requirement already satisfied: safetensors>=0.4.3 in /usr/local/lib/python3.11/dist-packages (from transformers) (0.5.3)\n",
            "Requirement already satisfied: tqdm>=4.27 in /usr/local/lib/python3.11/dist-packages (from transformers) (4.67.1)\n",
            "Requirement already satisfied: fsspec>=2023.5.0 in /usr/local/lib/python3.11/dist-packages (from huggingface-hub<1.0,>=0.30.0->transformers) (2025.3.2)\n",
            "Requirement already satisfied: typing-extensions>=3.7.4.3 in /usr/local/lib/python3.11/dist-packages (from huggingface-hub<1.0,>=0.30.0->transformers) (4.13.2)\n",
            "Requirement already satisfied: charset-normalizer<4,>=2 in /usr/local/lib/python3.11/dist-packages (from requests->transformers) (3.4.2)\n",
            "Requirement already satisfied: idna<4,>=2.5 in /usr/local/lib/python3.11/dist-packages (from requests->transformers) (3.10)\n",
            "Requirement already satisfied: urllib3<3,>=1.21.1 in /usr/local/lib/python3.11/dist-packages (from requests->transformers) (2.4.0)\n",
            "Requirement already satisfied: certifi>=2017.4.17 in /usr/local/lib/python3.11/dist-packages (from requests->transformers) (2025.4.26)\n"
          ]
        },
        {
          "output_type": "stream",
          "name": "stderr",
          "text": [
            "Device set to use cpu\n",
            "/usr/local/lib/python3.11/dist-packages/transformers/pipelines/text_classification.py:106: UserWarning: `return_all_scores` is now deprecated,  if want a similar functionality use `top_k=None` instead of `return_all_scores=True` or `top_k=1` instead of `return_all_scores=False`.\n",
            "  warnings.warn(\n"
          ]
        }
      ]
    },
    {
      "cell_type": "code",
      "source": [
        "def emotion_predicter(text):\n",
        "    results = emotion_classifier(text)[0]  # get all emotion scores\n",
        "    top_emotion = max(results, key=lambda x: x['score'])\n",
        "    return top_emotion\n",
        "\n",
        "text = input(\"Enter a sentence: \")\n",
        "print(f\"Text: {text}\")\n",
        "\n",
        "Predicted_emotion = emotion_predicter(text)\n",
        "\n",
        "print(f\"Predicted Emotion: {Predicted_emotion['label']}\\n\")\n"
      ],
      "metadata": {
        "colab": {
          "base_uri": "https://localhost:8080/"
        },
        "id": "3P9OmxgvQI7W",
        "outputId": "a7dff7ff-a5e2-47b2-c446-4fb8846db50a"
      },
      "execution_count": 87,
      "outputs": [
        {
          "output_type": "stream",
          "name": "stdout",
          "text": [
            "Enter a sentence: I am excited\n",
            "Text: I am excited\n",
            "Predicted Emotion: joy\n",
            "\n"
          ]
        }
      ]
    },
    {
      "cell_type": "code",
      "source": [
        "emotion_label = Predicted_emotion['label']\n",
        "confidence = Predicted_emotion['score']\n",
        "if emotion_label ==\"joy\" and confidence>=0.8:\n",
        "  print(\"That’s great!\")\n",
        "elif emotion_label ==\"joy\" and confidence<0.8:\n",
        "  print(\"Right back at you\")\n",
        "elif emotion_label ==\"sadness\":\n",
        "  print(\"I am sorry you are feeling down. Almighty will fix everything, dear. If you want to talk, I am here.\")\n",
        "elif emotion_label ==\"anger\":\n",
        "  print(\"That sounds really frustrating. But calm down\")\n",
        "elif emotion_label ==\"surprise\":\n",
        "  print(\"Crazy!\")\n",
        "elif emotion_label ==\"fear\":\n",
        "  print(\"Don't be afraid. I am here if you want to share what’s worrying you.\")\n",
        "elif emotion_label ==\"disgust\":\n",
        "  print(\"I can see why you'd feel that way. Anyway, let's move on.\")\n",
        "elif emotion_label ==\"neutral\":\n",
        "  print(\"Oh, I see.\")\n"
      ],
      "metadata": {
        "colab": {
          "base_uri": "https://localhost:8080/"
        },
        "id": "cFypl6jLsMAT",
        "outputId": "88f0ee5d-0d0b-4d82-e72d-9231f7b73086"
      },
      "execution_count": 88,
      "outputs": [
        {
          "output_type": "stream",
          "name": "stdout",
          "text": [
            "That’s great!\n"
          ]
        }
      ]
    }
  ]
}